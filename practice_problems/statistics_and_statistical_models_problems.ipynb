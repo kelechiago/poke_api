{
 "cells": [
  {
   "attachments": {},
   "cell_type": "markdown",
   "metadata": {},
   "source": [
    "# Statistics and Statistical Models"
   ]
  },
  {
   "attachments": {},
   "cell_type": "markdown",
   "metadata": {},
   "source": [
    "## Descriptive Statistics"
   ]
  },
  {
   "attachments": {},
   "cell_type": "markdown",
   "metadata": {},
   "source": [
    "Creating a Panda dataframe from SQL database and importing visualization library, Seaborn"
   ]
  },
  {
   "cell_type": "code",
   "execution_count": 94,
   "metadata": {},
   "outputs": [],
   "source": [
    "import sqlite3\n",
    "import pandas as pd\n",
    "import numpy as np\n",
    "import seaborn as sns\n",
    "\n",
    "\n",
    "# Specify the path to the .db file\n",
    "db_path = \"/Users/kelechiagomuo/Documents/Python/poke_api/pokemon.db\"\n",
    "\n",
    "# Establish a connection to the SQLite database\n",
    "conn = sqlite3.connect(db_path)\n",
    "\n",
    "# Write your SQL query to select data from the desired table(s)\n",
    "query = \"SELECT * FROM pokemon_tbl\"\n",
    "\n",
    "# Use pandas.read_sql() to execute the query and retrieve the data as a DataFrame\n",
    "df = pd.read_sql(query, conn)\n",
    "\n",
    "# Close the database connection\n",
    "conn.close()\n"
   ]
  },
  {
   "attachments": {},
   "cell_type": "markdown",
   "metadata": {},
   "source": [
    "Inspect the dataframe to make sure it is reading from the table correctly"
   ]
  },
  {
   "cell_type": "code",
   "execution_count": 95,
   "metadata": {},
   "outputs": [
    {
     "data": {
      "text/html": [
       "<div>\n",
       "<style scoped>\n",
       "    .dataframe tbody tr th:only-of-type {\n",
       "        vertical-align: middle;\n",
       "    }\n",
       "\n",
       "    .dataframe tbody tr th {\n",
       "        vertical-align: top;\n",
       "    }\n",
       "\n",
       "    .dataframe thead th {\n",
       "        text-align: right;\n",
       "    }\n",
       "</style>\n",
       "<table border=\"1\" class=\"dataframe\">\n",
       "  <thead>\n",
       "    <tr style=\"text-align: right;\">\n",
       "      <th></th>\n",
       "      <th>name</th>\n",
       "      <th>id</th>\n",
       "      <th>height</th>\n",
       "      <th>base_experience</th>\n",
       "      <th>pokemon_species_id</th>\n",
       "      <th>weight</th>\n",
       "      <th>hp</th>\n",
       "      <th>attack</th>\n",
       "      <th>defense</th>\n",
       "      <th>special-attack</th>\n",
       "      <th>...</th>\n",
       "      <th>is_legendary</th>\n",
       "      <th>is_mythical</th>\n",
       "      <th>capture_rate</th>\n",
       "      <th>base_happiness</th>\n",
       "      <th>hatch_counter</th>\n",
       "      <th>growth_rate</th>\n",
       "      <th>generation_name</th>\n",
       "      <th>habitat_name</th>\n",
       "      <th>type_name_1</th>\n",
       "      <th>type_name_2</th>\n",
       "    </tr>\n",
       "  </thead>\n",
       "  <tbody>\n",
       "    <tr>\n",
       "      <th>0</th>\n",
       "      <td>bulbasaur</td>\n",
       "      <td>1</td>\n",
       "      <td>7</td>\n",
       "      <td>64</td>\n",
       "      <td>1</td>\n",
       "      <td>69</td>\n",
       "      <td>45</td>\n",
       "      <td>49</td>\n",
       "      <td>49</td>\n",
       "      <td>65</td>\n",
       "      <td>...</td>\n",
       "      <td>False</td>\n",
       "      <td>False</td>\n",
       "      <td>45</td>\n",
       "      <td>50</td>\n",
       "      <td>20</td>\n",
       "      <td>medium-slow</td>\n",
       "      <td>generation-i</td>\n",
       "      <td>grassland</td>\n",
       "      <td>grass</td>\n",
       "      <td>poison</td>\n",
       "    </tr>\n",
       "    <tr>\n",
       "      <th>1</th>\n",
       "      <td>ivysaur</td>\n",
       "      <td>2</td>\n",
       "      <td>10</td>\n",
       "      <td>142</td>\n",
       "      <td>2</td>\n",
       "      <td>130</td>\n",
       "      <td>60</td>\n",
       "      <td>62</td>\n",
       "      <td>63</td>\n",
       "      <td>80</td>\n",
       "      <td>...</td>\n",
       "      <td>False</td>\n",
       "      <td>False</td>\n",
       "      <td>45</td>\n",
       "      <td>50</td>\n",
       "      <td>20</td>\n",
       "      <td>medium-slow</td>\n",
       "      <td>generation-i</td>\n",
       "      <td>grassland</td>\n",
       "      <td>grass</td>\n",
       "      <td>poison</td>\n",
       "    </tr>\n",
       "    <tr>\n",
       "      <th>2</th>\n",
       "      <td>venusaur</td>\n",
       "      <td>3</td>\n",
       "      <td>20</td>\n",
       "      <td>263</td>\n",
       "      <td>3</td>\n",
       "      <td>1000</td>\n",
       "      <td>80</td>\n",
       "      <td>82</td>\n",
       "      <td>83</td>\n",
       "      <td>100</td>\n",
       "      <td>...</td>\n",
       "      <td>False</td>\n",
       "      <td>False</td>\n",
       "      <td>45</td>\n",
       "      <td>50</td>\n",
       "      <td>20</td>\n",
       "      <td>medium-slow</td>\n",
       "      <td>generation-i</td>\n",
       "      <td>grassland</td>\n",
       "      <td>grass</td>\n",
       "      <td>poison</td>\n",
       "    </tr>\n",
       "    <tr>\n",
       "      <th>3</th>\n",
       "      <td>charmander</td>\n",
       "      <td>4</td>\n",
       "      <td>6</td>\n",
       "      <td>62</td>\n",
       "      <td>4</td>\n",
       "      <td>85</td>\n",
       "      <td>39</td>\n",
       "      <td>52</td>\n",
       "      <td>43</td>\n",
       "      <td>60</td>\n",
       "      <td>...</td>\n",
       "      <td>False</td>\n",
       "      <td>False</td>\n",
       "      <td>45</td>\n",
       "      <td>50</td>\n",
       "      <td>20</td>\n",
       "      <td>medium-slow</td>\n",
       "      <td>generation-i</td>\n",
       "      <td>mountain</td>\n",
       "      <td>fire</td>\n",
       "      <td></td>\n",
       "    </tr>\n",
       "    <tr>\n",
       "      <th>4</th>\n",
       "      <td>charmeleon</td>\n",
       "      <td>5</td>\n",
       "      <td>11</td>\n",
       "      <td>142</td>\n",
       "      <td>5</td>\n",
       "      <td>190</td>\n",
       "      <td>58</td>\n",
       "      <td>64</td>\n",
       "      <td>58</td>\n",
       "      <td>80</td>\n",
       "      <td>...</td>\n",
       "      <td>False</td>\n",
       "      <td>False</td>\n",
       "      <td>45</td>\n",
       "      <td>50</td>\n",
       "      <td>20</td>\n",
       "      <td>medium-slow</td>\n",
       "      <td>generation-i</td>\n",
       "      <td>mountain</td>\n",
       "      <td>fire</td>\n",
       "      <td></td>\n",
       "    </tr>\n",
       "  </tbody>\n",
       "</table>\n",
       "<p>5 rows × 27 columns</p>\n",
       "</div>"
      ],
      "text/plain": [
       "         name  id  height base_experience  pokemon_species_id  weight  hp  \\\n",
       "0   bulbasaur   1       7              64                   1      69  45   \n",
       "1     ivysaur   2      10             142                   2     130  60   \n",
       "2    venusaur   3      20             263                   3    1000  80   \n",
       "3  charmander   4       6              62                   4      85  39   \n",
       "4  charmeleon   5      11             142                   5     190  58   \n",
       "\n",
       "   attack  defense  special-attack  ...  is_legendary  is_mythical  \\\n",
       "0      49       49              65  ...         False        False   \n",
       "1      62       63              80  ...         False        False   \n",
       "2      82       83             100  ...         False        False   \n",
       "3      52       43              60  ...         False        False   \n",
       "4      64       58              80  ...         False        False   \n",
       "\n",
       "   capture_rate base_happiness  hatch_counter  growth_rate generation_name  \\\n",
       "0            45             50             20  medium-slow    generation-i   \n",
       "1            45             50             20  medium-slow    generation-i   \n",
       "2            45             50             20  medium-slow    generation-i   \n",
       "3            45             50             20  medium-slow    generation-i   \n",
       "4            45             50             20  medium-slow    generation-i   \n",
       "\n",
       "  habitat_name type_name_1  type_name_2  \n",
       "0    grassland       grass       poison  \n",
       "1    grassland       grass       poison  \n",
       "2    grassland       grass       poison  \n",
       "3     mountain        fire               \n",
       "4     mountain        fire               \n",
       "\n",
       "[5 rows x 27 columns]"
      ]
     },
     "execution_count": 95,
     "metadata": {},
     "output_type": "execute_result"
    }
   ],
   "source": [
    "# View the first 5 rows of the DataFrame\n",
    "df.head()"
   ]
  },
  {
   "cell_type": "code",
   "execution_count": 96,
   "metadata": {},
   "outputs": [],
   "source": [
    "### some data cleaning of null values\n",
    "# Fill empty and non-numeric values with NaN\n",
    "df['base_experience'] = df['base_experience'].replace('', np.nan).astype(float)\n",
    "\n",
    "# Replace missing values with zeros in an integer column\n",
    "df['base_experience'] = df['base_experience'].fillna(0).astype(int)\n",
    "\n",
    "# Change base_experience datatype to integer\n",
    "df['base_experience'] = df['base_experience'].astype(int)"
   ]
  },
  {
   "attachments": {},
   "cell_type": "markdown",
   "metadata": {},
   "source": [
    "Generate summary statistics of all numerical columns"
   ]
  },
  {
   "cell_type": "code",
   "execution_count": 97,
   "metadata": {},
   "outputs": [
    {
     "name": "stdout",
     "output_type": "stream",
     "text": [
      "                 id       height  base_experience  pokemon_species_id  \\\n",
      "count   1279.000000  1279.000000      1279.000000         1279.000000   \n",
      "mean    2545.263487    20.560594       141.964816          498.024238   \n",
      "std     3946.023359    54.637581        95.509561          300.223688   \n",
      "min        1.000000     1.000000         0.000000            1.000000   \n",
      "25%      320.500000     5.000000        61.000000          229.000000   \n",
      "50%      640.000000    10.000000       151.000000          501.000000   \n",
      "75%      959.500000    16.000000       184.000000          764.500000   \n",
      "max    10271.000000  1000.000000       635.000000         1008.000000   \n",
      "\n",
      "             weight           hp       attack      defense  special-attack  \\\n",
      "count   1279.000000  1279.000000  1279.000000  1279.000000     1279.000000   \n",
      "mean     977.837373    70.942924    81.405786    74.842846       73.317435   \n",
      "std     1979.579636    26.811503    31.824740    30.470327       32.437385   \n",
      "min        0.000000     1.000000     5.000000     5.000000       10.000000   \n",
      "25%       88.500000    53.000000    57.000000    52.000000       50.000000   \n",
      "50%      315.000000    70.000000    80.000000    70.000000       65.000000   \n",
      "75%      810.500000    85.000000   100.000000    92.000000       95.000000   \n",
      "max    10000.000000   255.000000   190.000000   250.000000      194.000000   \n",
      "\n",
      "       special-defense        speed  evolution_chain_id  gender_rate  \\\n",
      "count      1279.000000  1279.000000         1279.000000  1279.000000   \n",
      "mean         72.655981    70.884285          247.028147     2.849101   \n",
      "std          27.434438    30.348870          160.734662     2.268357   \n",
      "min          20.000000     5.000000            1.000000    -1.000000   \n",
      "25%          51.000000    46.500000           97.000000     1.000000   \n",
      "50%          70.000000    70.000000          248.000000     4.000000   \n",
      "75%          90.000000    92.000000          385.500000     4.000000   \n",
      "max         250.000000   200.000000          536.000000     8.000000   \n",
      "\n",
      "       capture_rate  \n",
      "count   1279.000000  \n",
      "mean      91.237686  \n",
      "std       74.843717  \n",
      "min        3.000000  \n",
      "25%       45.000000  \n",
      "50%       60.000000  \n",
      "75%      127.000000  \n",
      "max      255.000000  \n"
     ]
    }
   ],
   "source": [
    "print(df.describe())"
   ]
  },
  {
   "attachments": {},
   "cell_type": "markdown",
   "metadata": {},
   "source": [
    "Create visualization using Seaborn to check distribution of HP stat"
   ]
  },
  {
   "cell_type": "code",
   "execution_count": 98,
   "metadata": {},
   "outputs": [
    {
     "data": {
      "text/plain": [
       "[Text(0.5, 1.0, 'Distribution of HP Stat')]"
      ]
     },
     "execution_count": 98,
     "metadata": {},
     "output_type": "execute_result"
    },
    {
     "data": {
      "image/png": "[encoded data removed]",
      "text/plain": [
       "<Figure size 640x480 with 1 Axes>"
      ]
     },
     "metadata": {},
     "output_type": "display_data"
    }
   ],
   "source": [
    "# Plot the distribution of the HP column using Seaborn\n",
    "hp_plt = sns.histplot(df['hp'], kde=True)  # Enable kernel density estimation (KDE) for smoother curve, or use bins=# if you want to create the bins yourself\n",
    "\n",
    "# Modify the plot lables\n",
    "hp_plt.set(title='Distribution of HP Stat')"
   ]
  },
  {
   "attachments": {},
   "cell_type": "markdown",
   "metadata": {},
   "source": [
    "Feel free to create visualizations of any other key stats"
   ]
  },
  {
   "attachments": {},
   "cell_type": "markdown",
   "metadata": {},
   "source": [
    "## Linear Regression"
   ]
  },
  {
   "attachments": {},
   "cell_type": "markdown",
   "metadata": {},
   "source": [
    "See if there is a correlation to a Pokemon's base experience and the sum of its base stats."
   ]
  },
  {
   "attachments": {},
   "cell_type": "markdown",
   "metadata": {},
   "source": [
    "First, create a new column in the dataframe that is a sum of all base stats (hp, attack, defense, etc.)"
   ]
  },
  {
   "cell_type": "code",
   "execution_count": 99,
   "metadata": {},
   "outputs": [],
   "source": [
    "# Create new column for base stats, 'axis=1' is used to calculate the sums across each row\n",
    "df['base_stats'] = df[['hp', 'attack', 'defense', 'special-attack', 'special-defense', 'speed']].sum(axis=1)\n"
   ]
  },
  {
   "cell_type": "code",
   "execution_count": 100,
   "metadata": {},
   "outputs": [],
   "source": [
    "df['base_stats'] = df['base_stats'].astype(int)\n",
    "df['base_experience'] = df['base_experience'].astype(int)"
   ]
  },
  {
   "attachments": {},
   "cell_type": "markdown",
   "metadata": {},
   "source": [
    "Now check out the summary statistics for the new \"base_stats\" column"
   ]
  },
  {
   "cell_type": "code",
   "execution_count": 101,
   "metadata": {},
   "outputs": [
    {
     "name": "stdout",
     "output_type": "stream",
     "text": [
      "count    1279.000000\n",
      "mean      444.049257\n",
      "std       119.924448\n",
      "min       175.000000\n",
      "25%       334.500000\n",
      "50%       468.000000\n",
      "75%       520.000000\n",
      "max      1125.000000\n",
      "Name: base_stats, dtype: float64\n"
     ]
    }
   ],
   "source": [
    "column_stats = df['base_stats'].describe()\n",
    "print(column_stats)"
   ]
  },
  {
   "attachments": {},
   "cell_type": "markdown",
   "metadata": {},
   "source": [
    "Now calculate and print out the linear regression. "
   ]
  },
  {
   "cell_type": "code",
   "execution_count": 102,
   "metadata": {},
   "outputs": [
    {
     "name": "stdout",
     "output_type": "stream",
     "text": [
      "Slope: 0.8575790625036142\n",
      "Intercept: 322.3032031931441\n",
      "Correlation Coefficient: 0.6829883420116176\n",
      "R-squared: 0.46647307532377835\n",
      "p-value: 2.010400751066261e-176\n",
      "Standard Error: 0.02566513780928531\n"
     ]
    }
   ],
   "source": [
    "from scipy.stats import linregress\n",
    "\n",
    "# Perform linear regression\n",
    "slope, intercept, r_value, p_value, std_err = linregress(df['base_experience'], df['base_stats'])\n",
    "\n",
    "# Print the regression results\n",
    "print(\"Slope:\", slope)\n",
    "print(\"Intercept:\", intercept)\n",
    "print(\"Correlation Coefficient:\", r_value)\n",
    "print(\"R-squared:\", r_value ** 2)\n",
    "print(\"p-value:\", p_value)\n",
    "print(\"Standard Error:\", std_err)"
   ]
  },
  {
   "attachments": {},
   "cell_type": "markdown",
   "metadata": {},
   "source": [
    "Now, visualize this linear regression"
   ]
  },
  {
   "cell_type": "code",
   "execution_count": 103,
   "metadata": {},
   "outputs": [
    {
     "data": {
      "text/plain": [
       "Text(0.05, 0.95, 'Correlation: 0.68')"
      ]
     },
     "execution_count": 103,
     "metadata": {},
     "output_type": "execute_result"
    },
    {
     "data": {
      "image/png": "[encoded data removed]",
      "text/plain": [
       "<Figure size 640x480 with 1 Axes>"
      ]
     },
     "metadata": {},
     "output_type": "display_data"
    }
   ],
   "source": [
    "import matplotlib.pyplot as plt\n",
    "\n",
    "# Create a scatter plot with regression line\n",
    "sns.regplot(x='base_experience', y='base_stats', data=df, line_kws={'color': 'red'})\n",
    "plt.annotate(f\"Correlation: {df['base_experience'].corr(df['base_stats']):.2f}\", xy=(0.05, 0.95), xycoords='axes fraction')"
   ]
  },
  {
   "attachments": {},
   "cell_type": "markdown",
   "metadata": {},
   "source": [
    "Feel free to repeat this exercise with Catch Rate, Growth Rate, Hatch Rate, etc."
   ]
  }
 ],
 "metadata": {
  "kernelspec": {
   "display_name": "base",
   "language": "python",
   "name": "python3"
  },
  "language_info": {
   "codemirror_mode": {
    "name": "ipython",
    "version": 3
   },
   "file_extension": ".py",
   "mimetype": "text/x-python",
   "name": "python",
   "nbconvert_exporter": "python",
   "pygments_lexer": "ipython3",
   "version": "3.9.7"
  },
  "orig_nbformat": 4
 },
 "nbformat": 4,
 "nbformat_minor": 2
}
